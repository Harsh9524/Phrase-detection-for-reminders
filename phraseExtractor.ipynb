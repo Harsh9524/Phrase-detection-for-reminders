{
 "cells": [
  {
   "cell_type": "markdown",
   "metadata": {},
   "source": [
    "# PHRASE EXTRACTOR"
   ]
  },
  {
   "cell_type": "markdown",
   "metadata": {},
   "source": [
    "### Importing necessary packages"
   ]
  },
  {
   "cell_type": "code",
   "execution_count": 358,
   "metadata": {},
   "outputs": [],
   "source": [
    "import nltk\n",
    "import csv\n",
    "import pandas as pd\n",
    "import numpy as np"
   ]
  },
  {
   "cell_type": "markdown",
   "metadata": {},
   "source": [
    "### Woking on the training data and trying to figure out the best grammar possible which fits for most of the data."
   ]
  },
  {
   "cell_type": "code",
   "execution_count": 359,
   "metadata": {},
   "outputs": [],
   "source": [
    "# Reading Training file.\n",
    "data = pd.read_csv(\"training_data.tsv\", delimiter = '\\t', encoding = 'utf-8')"
   ]
  },
  {
   "cell_type": "code",
   "execution_count": 360,
   "metadata": {},
   "outputs": [
    {
     "data": {
      "text/plain": [
       "9819"
      ]
     },
     "execution_count": 360,
     "metadata": {},
     "output_type": "execute_result"
    }
   ],
   "source": [
    "# Checking out the length of file\n",
    "len(data)"
   ]
  },
  {
   "cell_type": "code",
   "execution_count": 361,
   "metadata": {},
   "outputs": [
    {
     "data": {
      "text/plain": [
       "'Set a reminder on 4 th Dec of going to meet sonal miss at 2:00 pm'"
      ]
     },
     "execution_count": 361,
     "metadata": {},
     "output_type": "execute_result"
    }
   ],
   "source": [
    "# Checking out any random sentence from the training data-set\n",
    "sentence = data['sent'][10]\n",
    "sentence"
   ]
  },
  {
   "cell_type": "markdown",
   "metadata": {},
   "source": [
    "### Checking how TextBlob works"
   ]
  },
  {
   "cell_type": "code",
   "execution_count": 362,
   "metadata": {},
   "outputs": [
    {
     "name": "stdout",
     "output_type": "stream",
     "text": [
      "TEXTBLOB\n",
      "set\n",
      "dec\n"
     ]
    }
   ],
   "source": [
    "from textblob import TextBlob\n",
    "\n",
    "# Textblob has ready-made function to extract noun-phrases. Lets see the results\n",
    "print (\"TEXTBLOB\")\n",
    "blob = TextBlob(sentence)\n",
    "\n",
    "for np in blob.noun_phrases:\n",
    "    print (np)\n",
    "    \n",
    "# The results were bad and thus had to go for different approach"
   ]
  },
  {
   "cell_type": "code",
   "execution_count": 363,
   "metadata": {},
   "outputs": [
    {
     "data": {
      "text/plain": [
       "['Set',\n",
       " 'a',\n",
       " 'reminder',\n",
       " 'on',\n",
       " '4',\n",
       " 'th',\n",
       " 'Dec',\n",
       " 'of',\n",
       " 'going',\n",
       " 'to',\n",
       " 'meet',\n",
       " 'sonal',\n",
       " 'miss',\n",
       " 'at',\n",
       " '2:00',\n",
       " 'pm']"
      ]
     },
     "execution_count": 363,
     "metadata": {},
     "output_type": "execute_result"
    }
   ],
   "source": [
    "# Tokenizing sentence into individual words\n",
    "tokens = nltk.word_tokenize(sentence)\n",
    "tokens"
   ]
  },
  {
   "cell_type": "code",
   "execution_count": 364,
   "metadata": {},
   "outputs": [
    {
     "data": {
      "text/plain": [
       "[('Set', 'VB'),\n",
       " ('a', 'DT'),\n",
       " ('reminder', 'NN'),\n",
       " ('on', 'IN'),\n",
       " ('4', 'CD'),\n",
       " ('th', 'JJ'),\n",
       " ('Dec', 'NNP'),\n",
       " ('of', 'IN'),\n",
       " ('going', 'VBG'),\n",
       " ('to', 'TO'),\n",
       " ('meet', 'VB'),\n",
       " ('sonal', 'JJ'),\n",
       " ('miss', 'NNS'),\n",
       " ('at', 'IN'),\n",
       " ('2:00', 'CD'),\n",
       " ('pm', 'NN')]"
      ]
     },
     "execution_count": 364,
     "metadata": {},
     "output_type": "execute_result"
    }
   ],
   "source": [
    "# POS_Tagging : Every word is assigned a tag\n",
    "tagged = nltk.pos_tag(tokens)\n",
    "tagged"
   ]
  },
  {
   "cell_type": "code",
   "execution_count": 365,
   "metadata": {},
   "outputs": [
    {
     "data": {
      "text/plain": [
       "['Set', 'reminder', 'Dec', 'going', 'meet', 'miss', 'pm']"
      ]
     },
     "execution_count": 365,
     "metadata": {},
     "output_type": "execute_result"
    }
   ],
   "source": [
    "# Nouns and Verb type words can be considered as \"important words\"\n",
    "Imp_words = [w[0] for w in tagged if w[1].startswith('N') or w[1].startswith('V')]\n",
    "Imp_words"
   ]
  },
  {
   "cell_type": "markdown",
   "metadata": {},
   "source": [
    "### Checking out different n-grams possible for a statement."
   ]
  },
  {
   "cell_type": "code",
   "execution_count": 366,
   "metadata": {},
   "outputs": [
    {
     "name": "stdout",
     "output_type": "stream",
     "text": [
      "[('Set',), ('a',), ('reminder',), ('on',), ('4',), ('th',), ('Dec',), ('of',), ('going',), ('to',), ('meet',), ('sonal',), ('miss',), ('at',), ('2:00',), ('pm',)] \n",
      "\n",
      "[('Set', 'a'), ('a', 'reminder'), ('reminder', 'on'), ('on', '4'), ('4', 'th'), ('th', 'Dec'), ('Dec', 'of'), ('of', 'going'), ('going', 'to'), ('to', 'meet'), ('meet', 'sonal'), ('sonal', 'miss'), ('miss', 'at'), ('at', '2:00'), ('2:00', 'pm')] \n",
      "\n",
      "[('Set', 'a', 'reminder'), ('a', 'reminder', 'on'), ('reminder', 'on', '4'), ('on', '4', 'th'), ('4', 'th', 'Dec'), ('th', 'Dec', 'of'), ('Dec', 'of', 'going'), ('of', 'going', 'to'), ('going', 'to', 'meet'), ('to', 'meet', 'sonal'), ('meet', 'sonal', 'miss'), ('sonal', 'miss', 'at'), ('miss', 'at', '2:00'), ('at', '2:00', 'pm')] \n",
      "\n",
      "[('Set', 'a', 'reminder', 'on'), ('a', 'reminder', 'on', '4'), ('reminder', 'on', '4', 'th'), ('on', '4', 'th', 'Dec'), ('4', 'th', 'Dec', 'of'), ('th', 'Dec', 'of', 'going'), ('Dec', 'of', 'going', 'to'), ('of', 'going', 'to', 'meet'), ('going', 'to', 'meet', 'sonal'), ('to', 'meet', 'sonal', 'miss'), ('meet', 'sonal', 'miss', 'at'), ('sonal', 'miss', 'at', '2:00'), ('miss', 'at', '2:00', 'pm')] \n",
      "\n",
      "[('Set', 'a', 'reminder', 'on', '4'), ('a', 'reminder', 'on', '4', 'th'), ('reminder', 'on', '4', 'th', 'Dec'), ('on', '4', 'th', 'Dec', 'of'), ('4', 'th', 'Dec', 'of', 'going'), ('th', 'Dec', 'of', 'going', 'to'), ('Dec', 'of', 'going', 'to', 'meet'), ('of', 'going', 'to', 'meet', 'sonal'), ('going', 'to', 'meet', 'sonal', 'miss'), ('to', 'meet', 'sonal', 'miss', 'at'), ('meet', 'sonal', 'miss', 'at', '2:00'), ('sonal', 'miss', 'at', '2:00', 'pm')] \n",
      "\n"
     ]
    }
   ],
   "source": [
    "from nltk.util import ngrams\n",
    "\n",
    "n=5\n",
    "for i in range(1,n+1):\n",
    "    output = list(ngrams(tokens, i))\n",
    "    print (output,\"\\n\")"
   ]
  },
  {
   "cell_type": "markdown",
   "metadata": {},
   "source": [
    "## Noun -Phrase Chunking"
   ]
  },
  {
   "cell_type": "code",
   "execution_count": 379,
   "metadata": {},
   "outputs": [],
   "source": [
    "# Defining a function which takes a sentence as an input and returns important phrase\n",
    "\n",
    "def extract(sentence):\n",
    "    \n",
    "    words = nltk.word_tokenize(sentence)\n",
    "    nltk.pos_tag(words)\n",
    "    \n",
    "    # defining a chunk grammar, consisting of rules that indicate how sentences should be chunked.\n",
    "    # NP chunk should be formed whenever the chunker finds optional verb type(VB), followed by optional RB, \n",
    "    # folllowed by Personal pronoun types(PRP), followed by optional Preposition(IN) , followed by  an optional determiner (DT)\n",
    "    # followed by any number of adjectives (JJ) and then a noun (NN). \n",
    "    \n",
    "    grammar = \"NP: {<VB.*>?<RB>?<PRP.*>?<IN>?<DT>?<JJ.*>*<NN.*>+}\"\n",
    "    \n",
    "    # Using this grammar, we create a chunk parser\n",
    "    parser = nltk.RegexpParser(grammar)\n",
    "    \n",
    "    # Test it on our example sentence\n",
    "    t = parser.parse(nltk.pos_tag(words))\n",
    "    \n",
    "    # Result is a tree \n",
    "    a = [s for s in t.subtrees() if s.label() == \"NP\"]\n",
    "    \n",
    "    c = []\n",
    "    num = []\n",
    "    \n",
    "    # These keywords were not included as label in training dat, so don't consider here also\n",
    "    key  = [\"monday\",\"tuesday\", \"wednesday\", \"thursday\",\"friday\",\"saturday\",\"sunday\",\"today\",\"tomorrow\",\"yesterday\", \"reminder\", \"remind\", \"th\", \"pm\",\"am\"]\n",
    "    \n",
    "    for i in range(len(a)):\n",
    "        count=0\n",
    "        phrase = \"\"\n",
    "        for j in range(len(a[i])):\n",
    "            if a[i][j][0].lower() in key:\n",
    "                phrase = phrase\n",
    "            else :\n",
    "                phrase = phrase + str(a[i][j][0]) + \" \"\n",
    "                count = count+1\n",
    "        c.append(phrase)\n",
    "        num.append(count)\n",
    "        #print (c)\n",
    "        #print (num)\n",
    "    \n",
    "    if(c==[] or max(num)<=1):\n",
    "        return \"Not Found\"\n",
    "    else :\n",
    "        maxi = max(num)\n",
    "        for i in range(len(num)):\n",
    "            if(num[i]==maxi):\n",
    "                return c[i].rstrip()"
   ]
  },
  {
   "cell_type": "markdown",
   "metadata": {},
   "source": [
    "### Testing fuction and its output"
   ]
  },
  {
   "cell_type": "code",
   "execution_count": 380,
   "metadata": {},
   "outputs": [
    {
     "name": "stdout",
     "output_type": "stream",
     "text": [
      "Set a reminder on 4 th Dec of going to meet sonal miss at 2:00 pm \n",
      "\n",
      "Phrase  :    meet sonal miss\n"
     ]
    }
   ],
   "source": [
    "print(sentence,\"\\n\") \n",
    "print(\"Phrase  :   \", extract(sentence))"
   ]
  },
  {
   "cell_type": "markdown",
   "metadata": {},
   "source": [
    "### Reading txt file which needs to be evaluated"
   ]
  },
  {
   "cell_type": "code",
   "execution_count": 381,
   "metadata": {},
   "outputs": [
    {
     "name": "stdout",
     "output_type": "stream",
     "text": [
      "Please remind me after 2 .00 pm for today\n"
     ]
    }
   ],
   "source": [
    "# Reading file line by line \n",
    "with open(\"eval_data.txt\", 'r+') as f:\n",
    "    lines = [line.rstrip('\\n') for line in f]\n",
    "    \n",
    "print (lines[67])"
   ]
  },
  {
   "cell_type": "markdown",
   "metadata": {},
   "source": [
    "### Creating new \"eval_data.csv\" to store."
   ]
  },
  {
   "cell_type": "code",
   "execution_count": 382,
   "metadata": {},
   "outputs": [],
   "source": [
    "with open('eval_data.csv', mode='w', newline='') as csv_file:\n",
    "    fieldnames = ['sent', 'label']\n",
    "    writer = csv.DictWriter(csv_file, fieldnames=fieldnames)\n",
    "    \n",
    "    writer.writeheader()\n",
    "    for i in range(len(lines)):\n",
    "        writer.writerow({'sent':lines[i],'label':extract(lines[i])})"
   ]
  },
  {
   "cell_type": "markdown",
   "metadata": {},
   "source": [
    "### Checking Accuracy of the model on training set"
   ]
  },
  {
   "cell_type": "code",
   "execution_count": 389,
   "metadata": {},
   "outputs": [
    {
     "name": "stdout",
     "output_type": "stream",
     "text": [
      "Accuracy :  31.805682859761685 %\n"
     ]
    }
   ],
   "source": [
    "with open('eval_data2.csv', mode='w', newline='', encoding = 'utf-8') as csv_file:\n",
    "    fieldnames = ['sent', 'Given_label', 'Predicted_label']\n",
    "    writer = csv.DictWriter(csv_file, fieldnames=fieldnames)\n",
    "    \n",
    "    writer.writeheader()\n",
    "    count = 0\n",
    "    for i in range(len(data)):\n",
    "        writer.writerow({'sent':data['sent'][i], 'Given_label':data['label'][i], 'Predicted_label':extract(str(data['sent'][i]))})\n",
    "        \n",
    "        if str(data['label'][i]) == extract(str(data['sent'][i])):\n",
    "            count = count+1\n",
    "            \n",
    "print (\"Accuracy : \", (count/len(data))*100, \"%\")"
   ]
  }
 ],
 "metadata": {
  "kernelspec": {
   "display_name": "Python 3",
   "language": "python",
   "name": "python3"
  },
  "language_info": {
   "codemirror_mode": {
    "name": "ipython",
    "version": 3
   },
   "file_extension": ".py",
   "mimetype": "text/x-python",
   "name": "python",
   "nbconvert_exporter": "python",
   "pygments_lexer": "ipython3",
   "version": "3.6.5"
  }
 },
 "nbformat": 4,
 "nbformat_minor": 2
}
